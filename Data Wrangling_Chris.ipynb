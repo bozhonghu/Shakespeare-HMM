{
 "cells": [
  {
   "cell_type": "code",
   "execution_count": 1,
   "metadata": {},
   "outputs": [],
   "source": [
    "import nltk\n",
    "import numpy as np \n",
    "\n",
    "from HMM import unsupervised_HMM\n",
    "from HMM_helper import (\n",
    "    text_to_wordcloud,\n",
    "    states_to_wordclouds,\n",
    "    parse_observations,\n",
    "    sample_sentence,\n",
    "    visualize_sparsities,\n",
    "    animate_emission\n",
    ")"
   ]
  },
  {
   "cell_type": "code",
   "execution_count": 2,
   "metadata": {
    "collapsed": true
   },
   "outputs": [],
   "source": [
    "raw = open(\"data/shakespeare.txt\").read()"
   ]
  },
  {
   "cell_type": "code",
   "execution_count": 3,
   "metadata": {},
   "outputs": [],
   "source": [
    "word_dict = []\n",
    "syllables = {}\n",
    "\n",
    "# Wrangle syllable data\n",
    "with open('data/Syllable_dictionary.txt') as file:\n",
    "    for line in file:\n",
    "        word = line.strip('\\n').split(' ')\n",
    "        word_dict.append(word[0])\n",
    "        for syl in word[1:]:\n",
    "            if syl not in syllables:\n",
    "                syllables[syl] = [word_dict[-1]]\n",
    "            else:\n",
    "                syllables[syl].append(word_dict[-1])\n",
    "file.close()\n",
    "\n",
    "word_dict = [\"\\n\"] + word_dict"
   ]
  },
  {
   "cell_type": "code",
   "execution_count": 4,
   "metadata": {},
   "outputs": [],
   "source": [
    "sonnets = []\n",
    "\n",
    "# Wrangle sonnets using syllables\n",
    "with open('data/shakespeare.txt') as file:\n",
    "    for line in file:\n",
    "        son = []\n",
    "        if line == '\\n':\n",
    "            continue\n",
    "        if line.strip().isdigit():\n",
    "            continue\n",
    "        words = line.strip().split(' ')\n",
    "        \n",
    "        # Add word to list\n",
    "        for word in words:\n",
    "            word = word.lower()\n",
    "            \n",
    "            # If it's a word in our word_dict\n",
    "            if word in word_dict:\n",
    "                son.append(word_dict.index(word))\n",
    "            \n",
    "            # Else check if we can strip off the punct\n",
    "            elif word[1:] in word_dict:\n",
    "                if word[0] not in word_dict:\n",
    "                    word_dict.append(word[0])\n",
    "                    syllables['0'].append(word[0])\n",
    "                \n",
    "                # Add punctuation and word\n",
    "                son.append(word_dict.index(word[0]))\n",
    "                son.append(word_dict.index(word[1:]))\n",
    "                \n",
    "            elif word[:-1] in word_dict:\n",
    "                if word[-1] not in word_dict:\n",
    "                    word_dict.append(word[-1])\n",
    "                    syllables['0'].append(word[-1])\n",
    "                \n",
    "                # Add word and punctuation\n",
    "                son.append(word_dict.index(word[:-1]))\n",
    "                son.append(word_dict.index(word[-1]))\n",
    "                \n",
    "            continue\n",
    "            \n",
    "        sonnets.append(son)\n",
    "file.close()"
   ]
  },
  {
   "cell_type": "code",
   "execution_count": 5,
   "metadata": {},
   "outputs": [],
   "source": [
    "for key in syllables:\n",
    "    syllables[key] = [word_dict.index(word) for word in syllables[key]]"
   ]
  },
  {
   "cell_type": "code",
   "execution_count": 6,
   "metadata": {},
   "outputs": [
    {
     "name": "stdout",
     "output_type": "stream",
     "text": [
      "Iteration: 10\n"
     ]
    }
   ],
   "source": [
    "hmm4 = unsupervised_HMM(sonnets, 2, 10, syllables)"
   ]
  },
  {
   "cell_type": "code",
   "execution_count": 7,
   "metadata": {
    "collapsed": true
   },
   "outputs": [],
   "source": [
    "token_dict = {word_dict[ind]:ind for ind in range(len(word_dict))}"
   ]
  },
  {
   "cell_type": "code",
   "execution_count": 8,
   "metadata": {
    "scrolled": true
   },
   "outputs": [
    {
     "name": "stdout",
     "output_type": "stream",
     "text": [
      "Sample Sentence:\n",
      "====================\n",
      "Throned yet am insufficiency with . \n",
      " gracious in charactered and my mock the , \n",
      " and and inheritors from decease i , \n",
      " age and farthest thy number fell more love , \n",
      " is is the or which draw hair be much lov'st , \n",
      " love habit soul be taught my in my of ' \n",
      " parts remember day breathe sweet this and find , \n",
      " enough shape stars upon whose eyes poor whose , \n",
      " away their waiting i wide believe it , \n",
      " to true care thou unthrift i he that the , \n",
      " next to and at when the and death since tongue , \n",
      " without poor beauty express feel from to , \n",
      " in them heart-inflaming heinous that not . \n",
      " thy my i shows of o kind-hearted worth's , \n",
      "...\n"
     ]
    }
   ],
   "source": [
    "print('Sample Sentence:\\n====================')\n",
    "print(sample_sentence(hmm4, token_dict, n_words=14))"
   ]
  },
  {
   "cell_type": "code",
   "execution_count": null,
   "metadata": {
    "collapsed": true
   },
   "outputs": [],
   "source": []
  }
 ],
 "metadata": {
  "kernelspec": {
   "display_name": "Python [default]",
   "language": "python",
   "name": "python3"
  },
  "language_info": {
   "codemirror_mode": {
    "name": "ipython",
    "version": 3
   },
   "file_extension": ".py",
   "mimetype": "text/x-python",
   "name": "python",
   "nbconvert_exporter": "python",
   "pygments_lexer": "ipython3",
   "version": "3.6.2"
  }
 },
 "nbformat": 4,
 "nbformat_minor": 2
}
