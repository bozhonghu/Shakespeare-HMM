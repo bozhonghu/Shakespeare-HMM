{
 "cells": [
  {
   "cell_type": "code",
   "execution_count": 1,
   "metadata": {},
   "outputs": [],
   "source": [
    "import nltk\n",
    "import numpy as np \n",
    "\n",
    "from HMM import unsupervised_HMM\n",
    "from HMM_helper import (\n",
    "    text_to_wordcloud,\n",
    "    states_to_wordclouds,\n",
    "    parse_observations,\n",
    "    sample_sentence,\n",
    "    visualize_sparsities,\n",
    "    animate_emission,\n",
    "    sample_rhyme\n",
    ")"
   ]
  },
  {
   "cell_type": "code",
   "execution_count": 2,
   "metadata": {
    "collapsed": true
   },
   "outputs": [],
   "source": [
    "raw = open(\"data/shakespeare.txt\").read()"
   ]
  },
  {
   "cell_type": "code",
   "execution_count": 3,
   "metadata": {
    "collapsed": true
   },
   "outputs": [],
   "source": [
    "word_dict = []\n",
    "syllables = {}\n",
    "\n",
    "# Wrangle syllable data\n",
    "with open('data/Syllable_dictionary.txt') as file:\n",
    "    for line in file:\n",
    "        word = line.strip('\\n').split(' ')\n",
    "        word_dict.append(word[0])\n",
    "        for syl in word[1:]:\n",
    "            if syl not in syllables:\n",
    "                syllables[syl] = [word_dict[-1]]\n",
    "            else:\n",
    "                syllables[syl].append(word_dict[-1])\n",
    "file.close()\n",
    "\n",
    "word_dict = [\"\\n\"] + word_dict"
   ]
  },
  {
   "cell_type": "code",
   "execution_count": 4,
   "metadata": {},
   "outputs": [],
   "source": [
    "sonnets = []\n",
    "rhymes = []\n",
    "\n",
    "start = 0\n",
    "\n",
    "# Wrangle sonnets using syllables\n",
    "with open('data/shakespeare.txt') as file:\n",
    "    for ind, line in enumerate(file):\n",
    "        son = []\n",
    "        if line == '\\n':\n",
    "            continue\n",
    "        if line.strip().isdigit():\n",
    "            start = ind\n",
    "            continue\n",
    "        words = line.strip().split(' ')\n",
    "        \n",
    "        # Add word to list\n",
    "        for word in words:\n",
    "            word = word.lower()\n",
    "            \n",
    "            # If it's a word in our word_dict\n",
    "            if word in word_dict:\n",
    "                son.append(word_dict.index(word))\n",
    "            \n",
    "            # Else check if we can strip off the punct\n",
    "            elif word[1:] in word_dict:\n",
    "                if word[0] not in word_dict:\n",
    "                    word_dict.append(word[0])\n",
    "                    syllables['0'].append(word[0])\n",
    "                \n",
    "                # Add punctuation and word\n",
    "                son.append(word_dict.index(word[0]))\n",
    "                son.append(word_dict.index(word[1:]))\n",
    "                \n",
    "            elif word[:-1] in word_dict:\n",
    "                if word[-1] not in word_dict:\n",
    "                    word_dict.append(word[-1])\n",
    "                    syllables['0'].append(word[-1])\n",
    "                \n",
    "                # Add word and punctuation\n",
    "                son.append(word_dict.index(word[:-1]))\n",
    "                son.append(word_dict.index(word[-1]))\n",
    "                \n",
    "            continue\n",
    "        \n",
    "        # Add rhyme pairs\n",
    "        if len(word_dict[son[-1]]) > 1:\n",
    "            last_word = son[-1]\n",
    "        else: last_word = son[-2]\n",
    "        \n",
    "        # If lines 1, 2, 5, 6, 9, 10\n",
    "        if (ind - start) < 3 or ((ind - start) > 4 and (ind - start) < 7) or ((ind - start) > 8 and (ind - start) < 11):\n",
    "            rhymes.append(last_word)\n",
    "        \n",
    "        # If line 13\n",
    "        elif (ind - start) == 13:\n",
    "            rhymes.append(last_word)\n",
    "            \n",
    "        # If line 14\n",
    "        elif (ind - start) == 14:\n",
    "            rhymes.append((last_word, rhymes[-1]))\n",
    "            rhymes[-2] = (rhymes[-2], last_word)\n",
    "        \n",
    "        # If any other line\n",
    "        else:\n",
    "            rhymes.append((last_word, rhymes[-2]))\n",
    "            rhymes[-3] = (rhymes[-3], last_word)\n",
    "            \n",
    "        # Add reversed line to sonnets\n",
    "        sonnets.append(son[::-1])\n",
    "        \n",
    "file.close()"
   ]
  },
  {
   "cell_type": "code",
   "execution_count": 5,
   "metadata": {
    "collapsed": true
   },
   "outputs": [],
   "source": [
    "for key in syllables:\n",
    "    syllables[key] = [word_dict.index(word) for word in syllables[key]]"
   ]
  },
  {
   "cell_type": "code",
   "execution_count": 6,
   "metadata": {},
   "outputs": [],
   "source": [
    "hmm_rhyme = unsupervised_HMM(sonnets, 2, 1, syllables, rhymes)"
   ]
  },
  {
   "cell_type": "code",
   "execution_count": 7,
   "metadata": {
    "collapsed": true
   },
   "outputs": [],
   "source": [
    "token_dict = {word_dict[ind]:ind for ind in range(len(word_dict))}"
   ]
  },
  {
   "cell_type": "code",
   "execution_count": 8,
   "metadata": {
    "scrolled": true
   },
   "outputs": [
    {
     "name": "stdout",
     "output_type": "stream",
     "text": [
      "Sample Sentence:\n",
      "====================\n",
      "Art lose date boat days and self-same but be , \n",
      " whose graces no is at tongue born sleep know . \n",
      " of by nights is again idolatry : \n",
      " to most live though of i fearful swift show , \n",
      " the catch that eyes as sure bristly devised , \n",
      " doth conspire against in beauty's child live , \n",
      " fawn to thou gone neglected sympathized , \n",
      " another count gilded i let achieve , \n",
      " grows i conquest pace proves time's when where catch , \n",
      " but i thine it that fond ear his o'er-read , \n",
      " affords me thing love so or bring , dispatch , \n",
      " with precious interchange that dull man dead : \n",
      " will with desire should conceit thy blood there , \n",
      " will smiling would of very that my where , \n",
      "...\n"
     ]
    }
   ],
   "source": [
    "print('Sample Sentence:\\n====================')\n",
    "print(sample_rhyme(hmm_rhyme, token_dict))"
   ]
  },
  {
   "cell_type": "markdown",
   "metadata": {},
   "source": [
    "# Rhyming"
   ]
  },
  {
   "cell_type": "code",
   "execution_count": 9,
   "metadata": {},
   "outputs": [
    {
     "data": {
      "text/plain": [
       "'morrow'"
      ]
     },
     "execution_count": 9,
     "metadata": {},
     "output_type": "execute_result"
    }
   ],
   "source": [
    "word_dict[1735]"
   ]
  },
  {
   "cell_type": "code",
   "execution_count": null,
   "metadata": {
    "collapsed": true
   },
   "outputs": [],
   "source": []
  }
 ],
 "metadata": {
  "kernelspec": {
   "display_name": "Python [default]",
   "language": "python",
   "name": "python3"
  },
  "language_info": {
   "codemirror_mode": {
    "name": "ipython",
    "version": 3
   },
   "file_extension": ".py",
   "mimetype": "text/x-python",
   "name": "python",
   "nbconvert_exporter": "python",
   "pygments_lexer": "ipython3",
   "version": "3.6.2"
  }
 },
 "nbformat": 4,
 "nbformat_minor": 2
}
