{
 "cells": [
  {
   "cell_type": "code",
   "execution_count": 1,
   "metadata": {},
   "outputs": [],
   "source": [
    "import nltk\n",
    "import numpy as np \n",
    "\n",
    "from HMM import unsupervised_HMM\n",
    "from HMM_helper import (\n",
    "    text_to_wordcloud,\n",
    "    states_to_wordclouds,\n",
    "    parse_observations,\n",
    "    sample_sentence,\n",
    "    visualize_sparsities,\n",
    "    animate_emission\n",
    ")"
   ]
  },
  {
   "cell_type": "code",
   "execution_count": 2,
   "metadata": {},
   "outputs": [],
   "source": [
    "raw = open(\"data/shakespeare.txt\").read()"
   ]
  },
  {
   "cell_type": "code",
   "execution_count": 3,
   "metadata": {},
   "outputs": [],
   "source": [
    "sonnets = []\n",
    "son = []\n",
    "with open(\"data/shakespeare.txt\") as f:\n",
    "    for line in f:\n",
    "        if (line == \"\\n\"): \n",
    "            continue\n",
    "        elif (line.strip().isdigit()):\n",
    "            sonnets.append(son)\n",
    "            son = []\n",
    "        else:\n",
    "            son.append(line.strip(\"\\n\").lower())\n",
    "sonnets = sonnets[1:]"
   ]
  },
  {
   "cell_type": "code",
   "execution_count": null,
   "metadata": {},
   "outputs": [],
   "source": []
  },
  {
   "cell_type": "code",
   "execution_count": 4,
   "metadata": {},
   "outputs": [],
   "source": [
    "# Get raw lines\n",
    "sonnet_words = ''\n",
    "for sonnet in sonnets:\n",
    "    for line in sonnet:\n",
    "        sonnet_words += line + ' '\n",
    "        \n",
    "sonnets_tokened = [[nltk.word_tokenize(j) + ['\\n'] for j in i] for i in sonnets]\n",
    "#sonnets_tokened_new = [[nltk.word_tokenize(j) for j in i] for i in sonnets]\n",
    "sonnet_tokens = nltk.word_tokenize(sonnet_words)\n",
    "sonnet_tokens = set(sonnet_tokens)\n",
    "sonnet_tokens |= {'\\n'}\n",
    "token_dict = {token:ind for ind, token in enumerate(list(sonnet_tokens))}"
   ]
  },
  {
   "cell_type": "code",
   "execution_count": 5,
   "metadata": {},
   "outputs": [],
   "source": [
    "sonnets_numbered = [[[token_dict[word] for word in line] for line in sonnet] for sonnet in sonnets_tokened]"
   ]
  },
  {
   "cell_type": "code",
   "execution_count": 6,
   "metadata": {},
   "outputs": [
    {
     "name": "stdout",
     "output_type": "stream",
     "text": [
      "Iteration: 10\n",
      "Iteration: 20\n",
      "Iteration: 30\n",
      "Iteration: 40\n",
      "Iteration: 50\n",
      "Iteration: 60\n",
      "Iteration: 70\n",
      "Iteration: 80\n",
      "Iteration: 90\n",
      "Iteration: 100\n"
     ]
    }
   ],
   "source": [
    "flat_sonnet = [item for sublist in sonnets_numbered for item in sublist]\n",
    "hmm4 = unsupervised_HMM(flat_sonnet, 10, 100)"
   ]
  },
  {
   "cell_type": "code",
   "execution_count": 14,
   "metadata": {},
   "outputs": [
    {
     "name": "stdout",
     "output_type": "stream",
     "text": [
      "Sample Sentence:\n",
      "====================\n",
      "Follow my of and way , \n",
      " art in abundant should one , knit plants writers ' \n",
      " hast miracle patent thine , \n",
      " me my lily ? \n",
      " this my crossed . \n",
      " of eyes , \n",
      " stand bastard me it is thus thou and rich , \n",
      " it...\n"
     ]
    }
   ],
   "source": [
    "print('Sample Sentence:\\n====================')\n",
    "print(sample_sentence(hmm4, token_dict, n_words=50))"
   ]
  },
  {
   "cell_type": "code",
   "execution_count": 8,
   "metadata": {},
   "outputs": [
    {
     "data": {
      "text/plain": [
       "'wherein'"
      ]
     },
     "execution_count": 8,
     "metadata": {},
     "output_type": "execute_result"
    }
   ],
   "source": [
    "ivd = {v: k for k, v in token_dict.items()}\n",
    "ivd[3137]"
   ]
  },
  {
   "cell_type": "code",
   "execution_count": null,
   "metadata": {},
   "outputs": [],
   "source": []
  }
 ],
 "metadata": {
  "kernelspec": {
   "display_name": "Python 3",
   "language": "python",
   "name": "python3"
  },
  "language_info": {
   "codemirror_mode": {
    "name": "ipython",
    "version": 3
   },
   "file_extension": ".py",
   "mimetype": "text/x-python",
   "name": "python",
   "nbconvert_exporter": "python",
   "pygments_lexer": "ipython3",
   "version": "3.6.3"
  }
 },
 "nbformat": 4,
 "nbformat_minor": 2
}
